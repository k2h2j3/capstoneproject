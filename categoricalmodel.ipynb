{
 "cells": [
  {
   "cell_type": "code",
   "execution_count": 1,
   "id": "1a5db537",
   "metadata": {},
   "outputs": [],
   "source": [
    "import os\n",
    "from tensorflow import keras\n",
    "from tensorflow.keras.preprocessing.image import ImageDataGenerator\n",
    "\n",
    "from tensorflow.keras.models import Sequential\n",
    "from tensorflow.keras.layers import Dense, Dropout\n",
    "from tensorflow.keras.layers import Conv2D, MaxPooling2D, Flatten\n",
    "from matplotlib.cbook import flatten\n",
    "\n",
    "import numpy as np\n",
    "import tensorflow as tf"
   ]
  },
  {
   "cell_type": "code",
   "execution_count": 2,
   "id": "87829ede",
   "metadata": {},
   "outputs": [],
   "source": [
    "seed = 0\n",
    "np.random.seed(seed)\n",
    "tf.random.set_seed(seed)"
   ]
  },
  {
   "cell_type": "code",
   "execution_count": 3,
   "id": "299e6367",
   "metadata": {},
   "outputs": [],
   "source": [
    "train_dir = 'C:/aiproject/data/train'\n",
    "test_dir = 'C:/aiproject/data/test'\n",
    "validation_dir = 'C:/aiproject/data/validation'\n",
    "\n",
    "train_books_dir = 'C:/aiproject/data/train/book'\n",
    "train_clothing_dir = 'C:/aiproject/data/train/clothing'\n",
    "train_electronics_dir = 'C:/aiproject/data/train/electronic'\n",
    "train_furniture_dir = 'C:/aiproject/data/train/furniture'\n",
    "\n",
    "test_books_dir = 'C:/aiproject/data/test/book'\n",
    "test_clothing_dir = 'C:/aiproject/data/test/clothing'\n",
    "test_electronics_dir = 'C:/aiproject/data/test/electronic'\n",
    "test_furniture_dir = 'C:/aiproject/data/test/furniture'\n",
    "\n",
    "val_books_dir = 'C:/aiproject/data/validation/book'\n",
    "val_clothing_dir = 'C:/aiproject/data/validation/clothing'\n",
    "val_electronics_dir = 'C:/aiproject/data/validation/electronic'\n",
    "val_furniture_dir = 'C:/aiproject/data/validation/furniture'"
   ]
  },
  {
   "cell_type": "code",
   "execution_count": 4,
   "id": "ccb87e3a",
   "metadata": {},
   "outputs": [
    {
     "name": "stdout",
     "output_type": "stream",
     "text": [
      "훈련 책 데이터 수 : 1993\n",
      "훈련 옷 데이터 수 : 1378\n",
      "훈련 전자기기 데이터 수 : 1785\n",
      "훈련 가구 데이터 수 : 6026\n",
      "테스트 책 데이터 수 : 152\n",
      "테스트 옷 데이터 수 : 128\n",
      "테스트 전자기기 데이터 수 : 240\n",
      "테스트 가구 데이터 수 : 1744\n",
      "검증 책 데이터 수 : 550\n",
      "검증 옷 데이터 수 : 592\n",
      "검증 전자기기 데이터 수 : 1002\n",
      "검증 가구 데이터 수 : 1576\n"
     ]
    }
   ],
   "source": [
    "print(\"훈련 책 데이터 수 : {}\".format(len(os.listdir(train_books_dir))))\n",
    "print(\"훈련 옷 데이터 수 : {}\".format(len(os.listdir(train_clothing_dir))))\n",
    "print(\"훈련 전자기기 데이터 수 : {}\".format(len(os.listdir(train_electronics_dir))))\n",
    "print(\"훈련 가구 데이터 수 : {}\".format(len(os.listdir(train_furniture_dir))))\n",
    "\n",
    "print(\"테스트 책 데이터 수 : {}\".format(len(os.listdir(test_books_dir))))\n",
    "print(\"테스트 옷 데이터 수 : {}\".format(len(os.listdir(test_clothing_dir))))\n",
    "print(\"테스트 전자기기 데이터 수 : {}\".format(len(os.listdir(test_electronics_dir))))\n",
    "print(\"테스트 가구 데이터 수 : {}\".format(len(os.listdir(test_furniture_dir))))\n",
    "\n",
    "print(\"검증 책 데이터 수 : {}\".format(len(os.listdir(val_books_dir))))\n",
    "print(\"검증 옷 데이터 수 : {}\".format(len(os.listdir(val_clothing_dir))))\n",
    "print(\"검증 전자기기 데이터 수 : {}\".format(len(os.listdir(val_electronics_dir))))\n",
    "print(\"검증 가구 데이터 수 : {}\".format(len(os.listdir(val_furniture_dir))))"
   ]
  },
  {
   "cell_type": "code",
   "execution_count": 5,
   "id": "b28b9a49",
   "metadata": {},
   "outputs": [],
   "source": [
    "#스케일링\n",
    "train_gen = ImageDataGenerator( rescale = 1./255)\n",
    "val_gen = ImageDataGenerator( rescale = 1./255)\n",
    "test_gen = ImageDataGenerator( rescale = 1./255)"
   ]
  },
  {
   "cell_type": "code",
   "execution_count": 6,
   "id": "fef6f94f",
   "metadata": {},
   "outputs": [
    {
     "name": "stdout",
     "output_type": "stream",
     "text": [
      "Found 11182 images belonging to 4 classes.\n",
      "Found 3720 images belonging to 4 classes.\n",
      "Found 2264 images belonging to 4 classes.\n"
     ]
    }
   ],
   "source": [
    "\n",
    "train_generator = train_gen.flow_from_directory(train_dir,\n",
    "                              target_size =(32,32),\n",
    "                              batch_size=16,\n",
    "                              class_mode = 'categorical')\n",
    "val_generator = val_gen.flow_from_directory( validation_dir,\n",
    "                            target_size = (32,32),\n",
    "                            batch_size=16,\n",
    "                            class_mode =  'categorical')\n",
    "test_generator = test_gen.flow_from_directory( test_dir,\n",
    "                            target_size = (32,32),\n",
    "                            batch_size=16,\n",
    "                            class_mode =  'categorical')"
   ]
  },
  {
   "cell_type": "code",
   "execution_count": 11,
   "id": "6d9dfff5",
   "metadata": {},
   "outputs": [
    {
     "name": "stdout",
     "output_type": "stream",
     "text": [
      "Model: \"sequential_1\"\n",
      "_________________________________________________________________\n",
      " Layer (type)                Output Shape              Param #   \n",
      "=================================================================\n",
      " conv2d_2 (Conv2D)           (None, 32, 32, 32)        896       \n",
      "                                                                 \n",
      " max_pooling2d_2 (MaxPooling  (None, 16, 16, 32)       0         \n",
      " 2D)                                                             \n",
      "                                                                 \n",
      " conv2d_3 (Conv2D)           (None, 16, 16, 32)        9248      \n",
      "                                                                 \n",
      " max_pooling2d_3 (MaxPooling  (None, 8, 8, 32)         0         \n",
      " 2D)                                                             \n",
      "                                                                 \n",
      " flatten_1 (Flatten)         (None, 2048)              0         \n",
      "                                                                 \n",
      " dense_2 (Dense)             (None, 128)               262272    \n",
      "                                                                 \n",
      " dense_3 (Dense)             (None, 4)                 516       \n",
      "                                                                 \n",
      "=================================================================\n",
      "Total params: 272,932\n",
      "Trainable params: 272,932\n",
      "Non-trainable params: 0\n",
      "_________________________________________________________________\n"
     ]
    }
   ],
   "source": [
    "c_model = Sequential()\n",
    "\n",
    "kernelsize = 3\n",
    "filter = 32\n",
    "\n",
    "\n",
    "# 입력층(CNN)\n",
    "# 특징을 도드라지게 해준다\n",
    "c_model.add(Conv2D(filters = filter, \n",
    "                   kernel_size = kernelsize, \n",
    "                   input_shape = (32,32,3), \n",
    "                   padding = 'same', \n",
    "                   activation = 'relu'))\n",
    "#불필요한 부분 삭제\n",
    "c_model.add(MaxPooling2D(pool_size = (2,2),strides=2))\n",
    "\n",
    "c_model.add(Conv2D(filters = filter,\n",
    "                   kernel_size = kernelsize, \n",
    "                   input_shape = (32,32,3), \n",
    "                   padding = 'same', \n",
    "                   activation = 'relu'))\n",
    "\n",
    "c_model.add(MaxPooling2D(pool_size = (2,2),strides=2))\n",
    "\n",
    "# 1차원으로 데이터 축소\n",
    "c_model.add(Flatten())\n",
    "\n",
    "#은닉층\n",
    "c_model.add(Dense(units=128, activation = 'relu'))\n",
    "\n",
    "#출력층\n",
    "c_model.add(Dense(units=4, activation= 'softmax'))\n",
    "\n",
    "c_model.summary()"
   ]
  },
  {
   "cell_type": "code",
   "execution_count": 12,
   "id": "b0e87a6b",
   "metadata": {},
   "outputs": [],
   "source": [
    "c_model.compile(loss='categorical_crossentropy',\n",
    "                optimizer = 'adam',\n",
    "                metrics=['accuracy'])\n"
   ]
  },
  {
   "cell_type": "code",
   "execution_count": 14,
   "id": "34eef92c",
   "metadata": {
    "scrolled": false
   },
   "outputs": [
    {
     "name": "stdout",
     "output_type": "stream",
     "text": [
      "Epoch 1/50\n",
      "  4/150 [..............................] - ETA: 3s - loss: 1.3846 - accuracy: 0.5312"
     ]
    },
    {
     "name": "stderr",
     "output_type": "stream",
     "text": [
      "C:\\Users\\k2h2j3\\AppData\\Local\\Temp/ipykernel_11308/1883484632.py:1: UserWarning: `Model.fit_generator` is deprecated and will be removed in a future version. Please use `Model.fit`, which supports generators.\n",
      "  c_history = c_model.fit_generator(train_generator,\n"
     ]
    },
    {
     "name": "stdout",
     "output_type": "stream",
     "text": [
      "150/150 [==============================] - 4s 28ms/step - loss: 0.9588 - accuracy: 0.6212 - val_loss: 0.7102 - val_accuracy: 0.7125\n",
      "Epoch 2/50\n",
      "150/150 [==============================] - 4s 28ms/step - loss: 0.6874 - accuracy: 0.7275 - val_loss: 0.8254 - val_accuracy: 0.6250\n",
      "Epoch 3/50\n",
      "150/150 [==============================] - 4s 29ms/step - loss: 0.5777 - accuracy: 0.7754 - val_loss: 0.7677 - val_accuracy: 0.7000\n",
      "Epoch 4/50\n",
      "150/150 [==============================] - 4s 28ms/step - loss: 0.5193 - accuracy: 0.7986 - val_loss: 0.4750 - val_accuracy: 0.8875\n",
      "Epoch 5/50\n",
      "150/150 [==============================] - 4s 28ms/step - loss: 0.5060 - accuracy: 0.7962 - val_loss: 0.7206 - val_accuracy: 0.7375\n",
      "Epoch 6/50\n",
      "150/150 [==============================] - 4s 29ms/step - loss: 0.4440 - accuracy: 0.8242 - val_loss: 0.7138 - val_accuracy: 0.6875\n",
      "Epoch 7/50\n",
      "150/150 [==============================] - 4s 28ms/step - loss: 0.4347 - accuracy: 0.8353 - val_loss: 0.6499 - val_accuracy: 0.7250\n",
      "Epoch 8/50\n",
      "150/150 [==============================] - 4s 28ms/step - loss: 0.4643 - accuracy: 0.8192 - val_loss: 0.5134 - val_accuracy: 0.8375\n",
      "Epoch 9/50\n",
      "150/150 [==============================] - 5s 34ms/step - loss: 0.4016 - accuracy: 0.8383 - val_loss: 0.4424 - val_accuracy: 0.8500\n",
      "Epoch 10/50\n",
      "150/150 [==============================] - 5s 32ms/step - loss: 0.3871 - accuracy: 0.8517 - val_loss: 0.5782 - val_accuracy: 0.7875\n",
      "Epoch 11/50\n",
      "150/150 [==============================] - 5s 31ms/step - loss: 0.3971 - accuracy: 0.8411 - val_loss: 0.3961 - val_accuracy: 0.8125\n",
      "Epoch 12/50\n",
      "150/150 [==============================] - 5s 31ms/step - loss: 0.3755 - accuracy: 0.8553 - val_loss: 0.4574 - val_accuracy: 0.8125\n",
      "Epoch 13/50\n",
      "150/150 [==============================] - 5s 32ms/step - loss: 0.3473 - accuracy: 0.8617 - val_loss: 0.5545 - val_accuracy: 0.7750\n",
      "Epoch 14/50\n",
      "150/150 [==============================] - 5s 31ms/step - loss: 0.3381 - accuracy: 0.8675 - val_loss: 0.3273 - val_accuracy: 0.8625\n",
      "Epoch 15/50\n",
      "150/150 [==============================] - 4s 29ms/step - loss: 0.3336 - accuracy: 0.8712 - val_loss: 0.5479 - val_accuracy: 0.8000\n",
      "Epoch 16/50\n",
      "150/150 [==============================] - 5s 31ms/step - loss: 0.3242 - accuracy: 0.8704 - val_loss: 0.6549 - val_accuracy: 0.8000\n",
      "Epoch 17/50\n",
      "150/150 [==============================] - 4s 29ms/step - loss: 0.3211 - accuracy: 0.8779 - val_loss: 0.6168 - val_accuracy: 0.7625\n",
      "Epoch 18/50\n",
      "150/150 [==============================] - 4s 29ms/step - loss: 0.3210 - accuracy: 0.8813 - val_loss: 0.4472 - val_accuracy: 0.8875\n",
      "Epoch 19/50\n",
      "150/150 [==============================] - 4s 29ms/step - loss: 0.3053 - accuracy: 0.8770 - val_loss: 0.3365 - val_accuracy: 0.9000\n",
      "Epoch 20/50\n",
      "150/150 [==============================] - 5s 30ms/step - loss: 0.3063 - accuracy: 0.8925 - val_loss: 0.4925 - val_accuracy: 0.8125\n",
      "Epoch 21/50\n",
      "150/150 [==============================] - 5s 30ms/step - loss: 0.2799 - accuracy: 0.8963 - val_loss: 0.4074 - val_accuracy: 0.8625\n",
      "Epoch 22/50\n",
      "150/150 [==============================] - 5s 30ms/step - loss: 0.2885 - accuracy: 0.8913 - val_loss: 0.4738 - val_accuracy: 0.8375\n",
      "Epoch 23/50\n",
      "150/150 [==============================] - 4s 30ms/step - loss: 0.2653 - accuracy: 0.9012 - val_loss: 0.4613 - val_accuracy: 0.7875\n",
      "Epoch 24/50\n",
      "150/150 [==============================] - 4s 29ms/step - loss: 0.2477 - accuracy: 0.9129 - val_loss: 0.3380 - val_accuracy: 0.8875\n",
      "Epoch 25/50\n",
      "150/150 [==============================] - 5s 30ms/step - loss: 0.2305 - accuracy: 0.9071 - val_loss: 0.4522 - val_accuracy: 0.8625\n",
      "Epoch 26/50\n",
      "150/150 [==============================] - 4s 29ms/step - loss: 0.2389 - accuracy: 0.9067 - val_loss: 0.6340 - val_accuracy: 0.7750\n",
      "Epoch 27/50\n",
      "150/150 [==============================] - 4s 29ms/step - loss: 0.2372 - accuracy: 0.9112 - val_loss: 0.3590 - val_accuracy: 0.8500\n",
      "Epoch 28/50\n",
      "150/150 [==============================] - 4s 30ms/step - loss: 0.2009 - accuracy: 0.9192 - val_loss: 0.5893 - val_accuracy: 0.8250\n",
      "Epoch 29/50\n",
      "150/150 [==============================] - 4s 29ms/step - loss: 0.1848 - accuracy: 0.9329 - val_loss: 0.4285 - val_accuracy: 0.8750\n",
      "Epoch 30/50\n",
      "150/150 [==============================] - 5s 32ms/step - loss: 0.1972 - accuracy: 0.9287 - val_loss: 0.2585 - val_accuracy: 0.9000\n",
      "Epoch 31/50\n",
      "150/150 [==============================] - 5s 32ms/step - loss: 0.1808 - accuracy: 0.9354 - val_loss: 0.4181 - val_accuracy: 0.8625\n",
      "Epoch 32/50\n",
      "150/150 [==============================] - 5s 30ms/step - loss: 0.1844 - accuracy: 0.9358 - val_loss: 0.4539 - val_accuracy: 0.8750\n",
      "Epoch 33/50\n",
      "150/150 [==============================] - 5s 30ms/step - loss: 0.1673 - accuracy: 0.9404 - val_loss: 0.4418 - val_accuracy: 0.8250\n",
      "Epoch 34/50\n",
      "150/150 [==============================] - 5s 30ms/step - loss: 0.1703 - accuracy: 0.9342 - val_loss: 0.3076 - val_accuracy: 0.9000\n",
      "Epoch 35/50\n",
      "150/150 [==============================] - 4s 30ms/step - loss: 0.1540 - accuracy: 0.9479 - val_loss: 0.3769 - val_accuracy: 0.8875\n",
      "Epoch 36/50\n",
      "150/150 [==============================] - 4s 30ms/step - loss: 0.1601 - accuracy: 0.9375 - val_loss: 0.2664 - val_accuracy: 0.8750\n",
      "Epoch 37/50\n",
      "150/150 [==============================] - 4s 30ms/step - loss: 0.1364 - accuracy: 0.9508 - val_loss: 0.3284 - val_accuracy: 0.9000\n",
      "Epoch 38/50\n",
      "150/150 [==============================] - 4s 29ms/step - loss: 0.1312 - accuracy: 0.9508 - val_loss: 0.5792 - val_accuracy: 0.7875\n",
      "Epoch 39/50\n",
      "150/150 [==============================] - 4s 29ms/step - loss: 0.0985 - accuracy: 0.9671 - val_loss: 0.4451 - val_accuracy: 0.8625\n",
      "Epoch 40/50\n",
      "150/150 [==============================] - 5s 30ms/step - loss: 0.1031 - accuracy: 0.9654 - val_loss: 0.6153 - val_accuracy: 0.8250\n",
      "Epoch 41/50\n",
      "150/150 [==============================] - 5s 30ms/step - loss: 0.1186 - accuracy: 0.9546 - val_loss: 0.3405 - val_accuracy: 0.8625\n",
      "Epoch 42/50\n",
      "150/150 [==============================] - 5s 30ms/step - loss: 0.1157 - accuracy: 0.9596 - val_loss: 0.3640 - val_accuracy: 0.9000\n",
      "Epoch 43/50\n",
      "150/150 [==============================] - 4s 30ms/step - loss: 0.1059 - accuracy: 0.9600 - val_loss: 0.5004 - val_accuracy: 0.7750\n",
      "Epoch 44/50\n",
      "150/150 [==============================] - 4s 29ms/step - loss: 0.0831 - accuracy: 0.9692 - val_loss: 0.5096 - val_accuracy: 0.8500\n",
      "Epoch 45/50\n",
      "150/150 [==============================] - 5s 30ms/step - loss: 0.0916 - accuracy: 0.9688 - val_loss: 0.3305 - val_accuracy: 0.9250\n",
      "Epoch 46/50\n",
      "150/150 [==============================] - 4s 29ms/step - loss: 0.1019 - accuracy: 0.9642 - val_loss: 0.7923 - val_accuracy: 0.8125\n",
      "Epoch 47/50\n",
      "150/150 [==============================] - 4s 29ms/step - loss: 0.0684 - accuracy: 0.9771 - val_loss: 0.3218 - val_accuracy: 0.9000\n",
      "Epoch 48/50\n",
      "150/150 [==============================] - 5s 30ms/step - loss: 0.0733 - accuracy: 0.9733 - val_loss: 0.8658 - val_accuracy: 0.8250\n",
      "Epoch 49/50\n",
      "150/150 [==============================] - 4s 30ms/step - loss: 0.0826 - accuracy: 0.9725 - val_loss: 0.6319 - val_accuracy: 0.8625\n",
      "Epoch 50/50\n",
      "150/150 [==============================] - 4s 30ms/step - loss: 0.0722 - accuracy: 0.9750 - val_loss: 0.3753 - val_accuracy: 0.8750\n"
     ]
    }
   ],
   "source": [
    "c_history = c_model.fit_generator(train_generator,\n",
    "            steps_per_epoch=150,\n",
    "            epochs=50,\n",
    "            validation_data = val_generator,\n",
    "            validation_steps = 5)"
   ]
  },
  {
   "cell_type": "code",
   "execution_count": 15,
   "id": "e1f9990a",
   "metadata": {},
   "outputs": [
    {
     "data": {
      "text/plain": [
       "[]"
      ]
     },
     "execution_count": 15,
     "metadata": {},
     "output_type": "execute_result"
    },
    {
     "data": {
      "image/png": "[encoded data removed]",
      "text/plain": [
       "<Figure size 432x288 with 1 Axes>"
      ]
     },
     "metadata": {
      "needs_background": "light"
     },
     "output_type": "display_data"
    }
   ],
   "source": [
    "import matplotlib.pyplot as plt\n",
    "acc = c_history.history['accuracy']\n",
    "val_acc = c_history.history['val_accuracy']\n",
    "\n",
    "epoch = range(1, len(acc)+1) #정확도의 개수\n",
    "\n",
    "plt.plot(epoch, acc, c='red', label = 'Train acc') # 훈련 데이터 정확도\n",
    "plt.plot(epoch, val_acc, c= 'blue', label = 'val acc') # 검증 데이터 정확도\n",
    "plt.legend() #범례\n",
    "plt.plot()"
   ]
  },
  {
   "cell_type": "code",
   "execution_count": 16,
   "id": "1ee5c2a3",
   "metadata": {},
   "outputs": [
    {
     "data": {
      "text/plain": [
       "<matplotlib.legend.Legend at 0x1a238092eb0>"
      ]
     },
     "execution_count": 16,
     "metadata": {},
     "output_type": "execute_result"
    },
    {
     "data": {
      "image/png": "[encoded data removed]",
      "text/plain": [
       "<Figure size 432x288 with 1 Axes>"
      ]
     },
     "metadata": {
      "needs_background": "light"
     },
     "output_type": "display_data"
    }
   ],
   "source": [
    "loss = c_history.history['loss']\n",
    "val_loss = c_history.history['val_loss']\n",
    "\n",
    "plt.plot(epoch, loss, 'red', label='Training loss')\n",
    "plt.plot(epoch, val_loss, 'blue', label='Validation loss')\n",
    "plt.title('Training and validation loss')\n",
    "plt.xlabel('Epochs')\n",
    "plt.ylabel('Loss')\n",
    "plt.legend()"
   ]
  },
  {
   "cell_type": "code",
   "execution_count": null,
   "id": "c79eada6",
   "metadata": {},
   "outputs": [],
   "source": []
  }
 ],
 "metadata": {
  "kernelspec": {
   "display_name": "Python 3 (ipykernel)",
   "language": "python",
   "name": "python3"
  },
  "language_info": {
   "codemirror_mode": {
    "name": "ipython",
    "version": 3
   },
   "file_extension": ".py",
   "mimetype": "text/x-python",
   "name": "python",
   "nbconvert_exporter": "python",
   "pygments_lexer": "ipython3",
   "version": "3.9.7"
  }
 },
 "nbformat": 4,
 "nbformat_minor": 5
}
