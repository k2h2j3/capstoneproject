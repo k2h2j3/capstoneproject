{
 "cells": [
  {
   "cell_type": "code",
   "execution_count": 87,
   "id": "1a5db537",
   "metadata": {},
   "outputs": [],
   "source": [
    "import os\n",
    "from tensorflow import keras\n",
    "from tensorflow.keras.preprocessing.image import ImageDataGenerator\n",
    "\n",
    "from tensorflow.keras.models import Sequential\n",
    "from tensorflow.keras.layers import Dense, Dropout\n",
    "from tensorflow.keras.layers import Conv2D, MaxPooling2D, Flatten\n",
    "from matplotlib.cbook import flatten\n",
    "\n",
    "import numpy as np\n",
    "import tensorflow as tf"
   ]
  },
  {
   "cell_type": "code",
   "execution_count": 88,
   "id": "87829ede",
   "metadata": {},
   "outputs": [],
   "source": [
    "seed = 0\n",
    "np.random.seed(seed)\n",
    "tf.random.set_seed(seed)"
   ]
  },
  {
   "cell_type": "code",
   "execution_count": 89,
   "id": "299e6367",
   "metadata": {},
   "outputs": [],
   "source": [
    "train_dir = 'C:/aiproject/data/train'\n",
    "test_dir = 'C:/aiproject/data/test'\n",
    "validation_dir = 'C:/aiproject/data/validation'\n",
    "\n",
    "train_books_dir = 'C:/aiproject/data/train/book'\n",
    "train_clothing_dir = 'C:/aiproject/data/train/clothing'\n",
    "train_electronics_dir = 'C:/aiproject/data/train/electronic'\n",
    "train_furniture_dir = 'C:/aiproject/data/train/furniture'\n",
    "\n",
    "test_books_dir = 'C:/aiproject/data/test/book'\n",
    "test_clothing_dir = 'C:/aiproject/data/test/clothing'\n",
    "test_electronics_dir = 'C:/aiproject/data/test/electronic'\n",
    "test_furniture_dir = 'C:/aiproject/data/test/furniture'\n",
    "\n",
    "val_books_dir = 'C:/aiproject/data/validation/book'\n",
    "val_clothing_dir = 'C:/aiproject/data/validation/clothing'\n",
    "val_electronics_dir = 'C:/aiproject/data/validation/electronic'\n",
    "val_furniture_dir = 'C:/aiproject/data/validation/furniture'"
   ]
  },
  {
   "cell_type": "code",
   "execution_count": 90,
   "id": "ccb87e3a",
   "metadata": {},
   "outputs": [
    {
     "name": "stdout",
     "output_type": "stream",
     "text": [
      "훈련 책 데이터 수 : 20615\n",
      "훈련 옷 데이터 수 : 19822\n",
      "훈련 가구 데이터 수 : 6026\n",
      "테스트 책 데이터 수 : 3953\n",
      "테스트 옷 데이터 수 : 1975\n",
      "테스트 가구 데이터 수 : 1744\n",
      "검증 책 데이터 수 : 10823\n",
      "검증 옷 데이터 수 : 8597\n",
      "검증 가구 데이터 수 : 1576\n"
     ]
    }
   ],
   "source": [
    "print(\"훈련 책 데이터 수 : {}\".format(len(os.listdir(train_books_dir))))\n",
    "print(\"훈련 옷 데이터 수 : {}\".format(len(os.listdir(train_clothing_dir))))\n",
    "print(\"훈련 가구 데이터 수 : {}\".format(len(os.listdir(train_furniture_dir))))\n",
    "\n",
    "print(\"테스트 책 데이터 수 : {}\".format(len(os.listdir(test_books_dir))))\n",
    "print(\"테스트 옷 데이터 수 : {}\".format(len(os.listdir(test_clothing_dir))))\n",
    "print(\"테스트 가구 데이터 수 : {}\".format(len(os.listdir(test_furniture_dir))))\n",
    "\n",
    "print(\"검증 책 데이터 수 : {}\".format(len(os.listdir(val_books_dir))))\n",
    "print(\"검증 옷 데이터 수 : {}\".format(len(os.listdir(val_clothing_dir))))\n",
    "print(\"검증 가구 데이터 수 : {}\".format(len(os.listdir(val_furniture_dir))))"
   ]
  },
  {
   "cell_type": "code",
   "execution_count": 91,
   "id": "b28b9a49",
   "metadata": {},
   "outputs": [],
   "source": [
    "#스케일링\n",
    "train_gen = ImageDataGenerator( rescale = 1./255)\n",
    "val_gen = ImageDataGenerator( rescale = 1./255)\n",
    "test_gen = ImageDataGenerator( rescale = 1./255)"
   ]
  },
  {
   "cell_type": "code",
   "execution_count": 92,
   "id": "fef6f94f",
   "metadata": {},
   "outputs": [
    {
     "name": "stdout",
     "output_type": "stream",
     "text": [
      "Found 46463 images belonging to 3 classes.\n",
      "Found 20996 images belonging to 3 classes.\n",
      "Found 7672 images belonging to 3 classes.\n"
     ]
    }
   ],
   "source": [
    "\n",
    "train_generator = train_gen.flow_from_directory(train_dir,\n",
    "                              target_size =(64,64),\n",
    "                              batch_size=32,\n",
    "                              class_mode = 'categorical')\n",
    "val_generator = val_gen.flow_from_directory( validation_dir,\n",
    "                            target_size = (64,64),\n",
    "                            batch_size=32,\n",
    "                            class_mode =  'categorical')\n",
    "test_generator = test_gen.flow_from_directory( test_dir,\n",
    "                            target_size = (64,64),\n",
    "                            batch_size=32,\n",
    "                            class_mode =  'categorical')"
   ]
  },
  {
   "cell_type": "code",
   "execution_count": 98,
   "id": "6d9dfff5",
   "metadata": {
    "scrolled": true
   },
   "outputs": [
    {
     "name": "stdout",
     "output_type": "stream",
     "text": [
      "Model: \"sequential_10\"\n",
      "_________________________________________________________________\n",
      " Layer (type)                Output Shape              Param #   \n",
      "=================================================================\n",
      " conv2d_20 (Conv2D)          (None, 64, 64, 32)        896       \n",
      "                                                                 \n",
      " conv2d_21 (Conv2D)          (None, 64, 64, 64)        18496     \n",
      "                                                                 \n",
      " max_pooling2d_20 (MaxPoolin  (None, 32, 32, 64)       0         \n",
      " g2D)                                                            \n",
      "                                                                 \n",
      " dropout (Dropout)           (None, 32, 32, 64)        0         \n",
      "                                                                 \n",
      " flatten_10 (Flatten)        (None, 65536)             0         \n",
      "                                                                 \n",
      " dense_20 (Dense)            (None, 50)                3276850   \n",
      "                                                                 \n",
      " dropout_1 (Dropout)         (None, 50)                0         \n",
      "                                                                 \n",
      " dense_21 (Dense)            (None, 3)                 153       \n",
      "                                                                 \n",
      "=================================================================\n",
      "Total params: 3,296,395\n",
      "Trainable params: 3,296,395\n",
      "Non-trainable params: 0\n",
      "_________________________________________________________________\n"
     ]
    }
   ],
   "source": [
    "c_model = Sequential()\n",
    "\n",
    "kernelsize = 3\n",
    "\n",
    "\n",
    "# 입력층(CNN)\n",
    "# 특징을 도드라지게 해준다\n",
    "c_model.add(Conv2D(filters = 32, \n",
    "                   kernel_size = kernelsize, \n",
    "                   input_shape = (64,64,3), \n",
    "                   padding = 'same', \n",
    "                   activation = 'relu'))\n",
    "\n",
    "c_model.add(Conv2D(filters = 64,\n",
    "                   kernel_size = kernelsize, \n",
    "                   input_shape = (64,64,3), \n",
    "                   padding = 'same', \n",
    "                   activation = 'relu'))\n",
    "#불필요한 부분 삭제\n",
    "c_model.add(MaxPooling2D(pool_size = (2,2),strides=2))\n",
    "\n",
    "c_model.add(Dropout(0.25))\n",
    "\n",
    "# 1차원으로 데이터 축소\n",
    "c_model.add(Flatten())\n",
    "\n",
    "#은닉층\n",
    "c_model.add(Dense(units=50, activation = 'relu'))\n",
    "\n",
    "c_model.add(Dropout(0.5))\n",
    "#출력층\n",
    "c_model.add(Dense(units=3, activation= 'softmax'))\n",
    "\n",
    "c_model.summary()"
   ]
  },
  {
   "cell_type": "code",
   "execution_count": 99,
   "id": "b0e87a6b",
   "metadata": {},
   "outputs": [],
   "source": [
    "c_model.compile(loss='categorical_crossentropy',\n",
    "                optimizer = 'adam',\n",
    "                metrics=['accuracy'])\n"
   ]
  },
  {
   "cell_type": "code",
   "execution_count": 100,
   "id": "34eef92c",
   "metadata": {
    "scrolled": false
   },
   "outputs": [
    {
     "name": "stdout",
     "output_type": "stream",
     "text": [
      "Epoch 1/100\n"
     ]
    },
    {
     "name": "stderr",
     "output_type": "stream",
     "text": [
      "C:\\Users\\k2h2j3\\AppData\\Local\\Temp/ipykernel_14308/2704360159.py:1: UserWarning: `Model.fit_generator` is deprecated and will be removed in a future version. Please use `Model.fit`, which supports generators.\n",
      "  c_history = c_model.fit_generator(train_generator,\n"
     ]
    },
    {
     "name": "stdout",
     "output_type": "stream",
     "text": [
      "100/100 [==============================] - 20s 187ms/step - loss: 0.5933 - accuracy: 0.7669 - val_loss: 0.4501 - val_accuracy: 0.8562\n",
      "Epoch 2/100\n",
      "100/100 [==============================] - 21s 212ms/step - loss: 0.4763 - accuracy: 0.8172 - val_loss: 0.3778 - val_accuracy: 0.8562\n",
      "Epoch 3/100\n",
      "100/100 [==============================] - 19s 194ms/step - loss: 0.4003 - accuracy: 0.8587 - val_loss: 0.2600 - val_accuracy: 0.9438\n",
      "Epoch 4/100\n",
      "100/100 [==============================] - 19s 194ms/step - loss: 0.3801 - accuracy: 0.8656 - val_loss: 0.3062 - val_accuracy: 0.8875\n",
      "Epoch 5/100\n",
      "100/100 [==============================] - 20s 195ms/step - loss: 0.3168 - accuracy: 0.9056 - val_loss: 0.1676 - val_accuracy: 0.9438\n",
      "Epoch 6/100\n",
      "100/100 [==============================] - 19s 193ms/step - loss: 0.3150 - accuracy: 0.8978 - val_loss: 0.2506 - val_accuracy: 0.9062\n",
      "Epoch 7/100\n",
      "100/100 [==============================] - 19s 194ms/step - loss: 0.3038 - accuracy: 0.9066 - val_loss: 0.2571 - val_accuracy: 0.9000\n",
      "Epoch 8/100\n",
      "100/100 [==============================] - 19s 194ms/step - loss: 0.2826 - accuracy: 0.9116 - val_loss: 0.2325 - val_accuracy: 0.9250\n",
      "Epoch 9/100\n",
      "100/100 [==============================] - 19s 193ms/step - loss: 0.2991 - accuracy: 0.9066 - val_loss: 0.2774 - val_accuracy: 0.9312\n",
      "Epoch 10/100\n",
      "100/100 [==============================] - 20s 196ms/step - loss: 0.2791 - accuracy: 0.9081 - val_loss: 0.1371 - val_accuracy: 0.9625\n",
      "Epoch 11/100\n",
      "100/100 [==============================] - 19s 194ms/step - loss: 0.2525 - accuracy: 0.9219 - val_loss: 0.2038 - val_accuracy: 0.9125\n",
      "Epoch 12/100\n",
      "100/100 [==============================] - 20s 196ms/step - loss: 0.2270 - accuracy: 0.9262 - val_loss: 0.1631 - val_accuracy: 0.9375\n",
      "Epoch 13/100\n",
      "100/100 [==============================] - 19s 193ms/step - loss: 0.2625 - accuracy: 0.9191 - val_loss: 0.0789 - val_accuracy: 0.9812\n",
      "Epoch 14/100\n",
      "100/100 [==============================] - 19s 193ms/step - loss: 0.2114 - accuracy: 0.9362 - val_loss: 0.1275 - val_accuracy: 0.9500\n",
      "Epoch 15/100\n",
      "100/100 [==============================] - 19s 193ms/step - loss: 0.2259 - accuracy: 0.9325 - val_loss: 0.1654 - val_accuracy: 0.9438\n",
      "Epoch 16/100\n",
      "100/100 [==============================] - 19s 194ms/step - loss: 0.2230 - accuracy: 0.9306 - val_loss: 0.2146 - val_accuracy: 0.9312\n",
      "Epoch 17/100\n",
      "100/100 [==============================] - 19s 193ms/step - loss: 0.2128 - accuracy: 0.9369 - val_loss: 0.1338 - val_accuracy: 0.9438\n",
      "Epoch 18/100\n",
      "100/100 [==============================] - 19s 193ms/step - loss: 0.1954 - accuracy: 0.9347 - val_loss: 0.2646 - val_accuracy: 0.9438\n",
      "Epoch 19/100\n",
      "100/100 [==============================] - 19s 192ms/step - loss: 0.2186 - accuracy: 0.9325 - val_loss: 0.1338 - val_accuracy: 0.9438\n",
      "Epoch 20/100\n",
      "100/100 [==============================] - 19s 194ms/step - loss: 0.1853 - accuracy: 0.9438 - val_loss: 0.1708 - val_accuracy: 0.9438\n",
      "Epoch 21/100\n",
      "100/100 [==============================] - 19s 193ms/step - loss: 0.2059 - accuracy: 0.9325 - val_loss: 0.1110 - val_accuracy: 0.9625\n",
      "Epoch 22/100\n",
      "100/100 [==============================] - 19s 192ms/step - loss: 0.1968 - accuracy: 0.9375 - val_loss: 0.2009 - val_accuracy: 0.9250\n",
      "Epoch 23/100\n",
      "100/100 [==============================] - 19s 192ms/step - loss: 0.1768 - accuracy: 0.9441 - val_loss: 0.2955 - val_accuracy: 0.9375\n",
      "Epoch 24/100\n",
      "100/100 [==============================] - 19s 193ms/step - loss: 0.2068 - accuracy: 0.9403 - val_loss: 0.1612 - val_accuracy: 0.9500\n",
      "Epoch 25/100\n",
      "100/100 [==============================] - 19s 191ms/step - loss: 0.1933 - accuracy: 0.9322 - val_loss: 0.1438 - val_accuracy: 0.9312\n",
      "Epoch 26/100\n",
      "100/100 [==============================] - 19s 191ms/step - loss: 0.1816 - accuracy: 0.9434 - val_loss: 0.1950 - val_accuracy: 0.9438\n",
      "Epoch 27/100\n",
      "100/100 [==============================] - 19s 193ms/step - loss: 0.1810 - accuracy: 0.9394 - val_loss: 0.1687 - val_accuracy: 0.9250\n",
      "Epoch 28/100\n",
      "100/100 [==============================] - 19s 195ms/step - loss: 0.1707 - accuracy: 0.9472 - val_loss: 0.2705 - val_accuracy: 0.9500\n",
      "Epoch 29/100\n",
      "100/100 [==============================] - 19s 191ms/step - loss: 0.1587 - accuracy: 0.9481 - val_loss: 0.1232 - val_accuracy: 0.9750\n",
      "Epoch 30/100\n",
      "100/100 [==============================] - 19s 192ms/step - loss: 0.1613 - accuracy: 0.9444 - val_loss: 0.1223 - val_accuracy: 0.9438\n",
      "Epoch 31/100\n",
      "100/100 [==============================] - 19s 190ms/step - loss: 0.1819 - accuracy: 0.9441 - val_loss: 0.1639 - val_accuracy: 0.9375\n",
      "Epoch 32/100\n",
      "100/100 [==============================] - 19s 189ms/step - loss: 0.1616 - accuracy: 0.9488 - val_loss: 0.1150 - val_accuracy: 0.9563\n",
      "Epoch 33/100\n",
      "100/100 [==============================] - 19s 190ms/step - loss: 0.1588 - accuracy: 0.9497 - val_loss: 0.1042 - val_accuracy: 0.9625\n",
      "Epoch 34/100\n",
      "100/100 [==============================] - 19s 190ms/step - loss: 0.1581 - accuracy: 0.9488 - val_loss: 0.1912 - val_accuracy: 0.9250\n",
      "Epoch 35/100\n",
      "100/100 [==============================] - 19s 190ms/step - loss: 0.1763 - accuracy: 0.9472 - val_loss: 0.1604 - val_accuracy: 0.9375\n",
      "Epoch 36/100\n",
      "100/100 [==============================] - 19s 190ms/step - loss: 0.1662 - accuracy: 0.9531 - val_loss: 0.1144 - val_accuracy: 0.9625\n",
      "Epoch 37/100\n",
      "100/100 [==============================] - 19s 192ms/step - loss: 0.1477 - accuracy: 0.9519 - val_loss: 0.1606 - val_accuracy: 0.9625\n",
      "Epoch 38/100\n",
      "100/100 [==============================] - 19s 190ms/step - loss: 0.1362 - accuracy: 0.9606 - val_loss: 0.1349 - val_accuracy: 0.9500\n",
      "Epoch 39/100\n",
      "100/100 [==============================] - 19s 190ms/step - loss: 0.1415 - accuracy: 0.9584 - val_loss: 0.2773 - val_accuracy: 0.9000\n",
      "Epoch 40/100\n",
      "100/100 [==============================] - 19s 191ms/step - loss: 0.1362 - accuracy: 0.9559 - val_loss: 0.1141 - val_accuracy: 0.9688\n",
      "Epoch 41/100\n",
      "100/100 [==============================] - 19s 190ms/step - loss: 0.1313 - accuracy: 0.9622 - val_loss: 0.1417 - val_accuracy: 0.9563\n",
      "Epoch 42/100\n",
      "100/100 [==============================] - 19s 192ms/step - loss: 0.1305 - accuracy: 0.9575 - val_loss: 0.0509 - val_accuracy: 0.9875\n",
      "Epoch 43/100\n",
      "100/100 [==============================] - 19s 192ms/step - loss: 0.1413 - accuracy: 0.9522 - val_loss: 0.1160 - val_accuracy: 0.9688\n",
      "Epoch 44/100\n",
      "100/100 [==============================] - 19s 190ms/step - loss: 0.1241 - accuracy: 0.9594 - val_loss: 0.0999 - val_accuracy: 0.9563\n",
      "Epoch 45/100\n",
      "100/100 [==============================] - 19s 189ms/step - loss: 0.1270 - accuracy: 0.9600 - val_loss: 0.1731 - val_accuracy: 0.9438\n",
      "Epoch 46/100\n",
      "100/100 [==============================] - 19s 190ms/step - loss: 0.1275 - accuracy: 0.9566 - val_loss: 0.1765 - val_accuracy: 0.9563\n",
      "Epoch 47/100\n",
      "100/100 [==============================] - 19s 190ms/step - loss: 0.1247 - accuracy: 0.9578 - val_loss: 0.1339 - val_accuracy: 0.9500\n",
      "Epoch 48/100\n",
      "100/100 [==============================] - 19s 190ms/step - loss: 0.1185 - accuracy: 0.9603 - val_loss: 0.0593 - val_accuracy: 0.9688\n",
      "Epoch 49/100\n",
      "100/100 [==============================] - 19s 191ms/step - loss: 0.1213 - accuracy: 0.9581 - val_loss: 0.1231 - val_accuracy: 0.9625\n",
      "Epoch 50/100\n",
      "100/100 [==============================] - 19s 190ms/step - loss: 0.1151 - accuracy: 0.9594 - val_loss: 0.0972 - val_accuracy: 0.9500\n",
      "Epoch 51/100\n",
      "100/100 [==============================] - 19s 189ms/step - loss: 0.1282 - accuracy: 0.9531 - val_loss: 0.1621 - val_accuracy: 0.9375\n",
      "Epoch 52/100\n",
      "100/100 [==============================] - 19s 188ms/step - loss: 0.1276 - accuracy: 0.9563 - val_loss: 0.1910 - val_accuracy: 0.9438\n",
      "Epoch 53/100\n",
      "100/100 [==============================] - 19s 190ms/step - loss: 0.1250 - accuracy: 0.9578 - val_loss: 0.1329 - val_accuracy: 0.9625\n",
      "Epoch 54/100\n",
      "100/100 [==============================] - 19s 190ms/step - loss: 0.1228 - accuracy: 0.9616 - val_loss: 0.1369 - val_accuracy: 0.9500\n",
      "Epoch 55/100\n",
      "100/100 [==============================] - 19s 189ms/step - loss: 0.0862 - accuracy: 0.9709 - val_loss: 0.1076 - val_accuracy: 0.9563\n",
      "Epoch 56/100\n",
      "100/100 [==============================] - 19s 189ms/step - loss: 0.1011 - accuracy: 0.9703 - val_loss: 0.2370 - val_accuracy: 0.9500\n"
     ]
    },
    {
     "name": "stdout",
     "output_type": "stream",
     "text": [
      "Epoch 57/100\n",
      "100/100 [==============================] - 19s 187ms/step - loss: 0.1183 - accuracy: 0.9638 - val_loss: 0.1049 - val_accuracy: 0.9688\n",
      "Epoch 58/100\n",
      "100/100 [==============================] - 19s 186ms/step - loss: 0.1173 - accuracy: 0.9616 - val_loss: 0.1546 - val_accuracy: 0.9312\n",
      "Epoch 59/100\n",
      "100/100 [==============================] - 19s 188ms/step - loss: 0.0927 - accuracy: 0.9650 - val_loss: 0.0412 - val_accuracy: 0.9875\n",
      "Epoch 60/100\n",
      "100/100 [==============================] - 19s 187ms/step - loss: 0.1000 - accuracy: 0.9638 - val_loss: 0.0672 - val_accuracy: 0.9688\n",
      "Epoch 61/100\n",
      "100/100 [==============================] - 19s 187ms/step - loss: 0.1199 - accuracy: 0.9613 - val_loss: 0.2164 - val_accuracy: 0.9500\n",
      "Epoch 62/100\n",
      "100/100 [==============================] - 19s 188ms/step - loss: 0.0946 - accuracy: 0.9681 - val_loss: 0.0474 - val_accuracy: 0.9812\n",
      "Epoch 63/100\n",
      "100/100 [==============================] - 19s 187ms/step - loss: 0.1167 - accuracy: 0.9619 - val_loss: 0.0766 - val_accuracy: 0.9812\n",
      "Epoch 64/100\n",
      "100/100 [==============================] - 19s 188ms/step - loss: 0.0879 - accuracy: 0.9716 - val_loss: 0.1407 - val_accuracy: 0.9500\n",
      "Epoch 65/100\n",
      "100/100 [==============================] - 19s 188ms/step - loss: 0.0894 - accuracy: 0.9681 - val_loss: 0.1194 - val_accuracy: 0.9563\n",
      "Epoch 66/100\n",
      "100/100 [==============================] - 19s 191ms/step - loss: 0.0998 - accuracy: 0.9666 - val_loss: 0.1153 - val_accuracy: 0.9500\n",
      "Epoch 67/100\n",
      "100/100 [==============================] - 20s 196ms/step - loss: 0.1198 - accuracy: 0.9591 - val_loss: 0.1095 - val_accuracy: 0.9812\n",
      "Epoch 68/100\n",
      "100/100 [==============================] - 19s 190ms/step - loss: 0.0894 - accuracy: 0.9694 - val_loss: 0.0996 - val_accuracy: 0.9625\n",
      "Epoch 69/100\n",
      "100/100 [==============================] - 19s 187ms/step - loss: 0.0917 - accuracy: 0.9675 - val_loss: 0.1195 - val_accuracy: 0.9750\n",
      "Epoch 70/100\n",
      "100/100 [==============================] - 19s 186ms/step - loss: 0.0788 - accuracy: 0.9750 - val_loss: 0.1391 - val_accuracy: 0.9688\n",
      "Epoch 71/100\n",
      "100/100 [==============================] - 19s 186ms/step - loss: 0.0879 - accuracy: 0.9725 - val_loss: 0.0503 - val_accuracy: 0.9812\n",
      "Epoch 72/100\n",
      "100/100 [==============================] - 19s 190ms/step - loss: 0.0958 - accuracy: 0.9694 - val_loss: 0.1139 - val_accuracy: 0.9750\n",
      "Epoch 73/100\n",
      "100/100 [==============================] - 19s 189ms/step - loss: 0.0730 - accuracy: 0.9750 - val_loss: 0.1721 - val_accuracy: 0.9563\n",
      "Epoch 74/100\n",
      "100/100 [==============================] - 19s 189ms/step - loss: 0.0807 - accuracy: 0.9725 - val_loss: 0.0669 - val_accuracy: 0.9812\n",
      "Epoch 75/100\n",
      "100/100 [==============================] - 19s 193ms/step - loss: 0.0791 - accuracy: 0.9703 - val_loss: 0.0943 - val_accuracy: 0.9625\n",
      "Epoch 76/100\n",
      "100/100 [==============================] - 19s 191ms/step - loss: 0.0796 - accuracy: 0.9666 - val_loss: 0.0588 - val_accuracy: 0.9750\n",
      "Epoch 77/100\n",
      "100/100 [==============================] - 19s 190ms/step - loss: 0.0919 - accuracy: 0.9691 - val_loss: 0.1001 - val_accuracy: 0.9563\n",
      "Epoch 78/100\n",
      "100/100 [==============================] - 19s 192ms/step - loss: 0.1195 - accuracy: 0.9600 - val_loss: 0.1615 - val_accuracy: 0.9750\n",
      "Epoch 79/100\n",
      "100/100 [==============================] - 19s 190ms/step - loss: 0.0975 - accuracy: 0.9681 - val_loss: 0.0526 - val_accuracy: 0.9750\n",
      "Epoch 80/100\n",
      "100/100 [==============================] - 19s 189ms/step - loss: 0.0833 - accuracy: 0.9722 - val_loss: 0.0428 - val_accuracy: 0.9937\n",
      "Epoch 81/100\n",
      "100/100 [==============================] - 19s 189ms/step - loss: 0.0735 - accuracy: 0.9734 - val_loss: 0.0349 - val_accuracy: 1.0000\n",
      "Epoch 82/100\n",
      "100/100 [==============================] - 19s 189ms/step - loss: 0.0659 - accuracy: 0.9731 - val_loss: 0.1682 - val_accuracy: 0.9750\n",
      "Epoch 83/100\n",
      "100/100 [==============================] - 19s 188ms/step - loss: 0.0893 - accuracy: 0.9697 - val_loss: 0.0707 - val_accuracy: 0.9750\n",
      "Epoch 84/100\n",
      "100/100 [==============================] - 19s 191ms/step - loss: 0.0675 - accuracy: 0.9800 - val_loss: 0.2027 - val_accuracy: 0.9500\n",
      "Epoch 85/100\n",
      "100/100 [==============================] - 19s 193ms/step - loss: 0.0835 - accuracy: 0.9712 - val_loss: 0.1422 - val_accuracy: 0.9625\n",
      "Epoch 86/100\n",
      "100/100 [==============================] - 19s 189ms/step - loss: 0.0867 - accuracy: 0.9769 - val_loss: 0.2248 - val_accuracy: 0.9625\n",
      "Epoch 87/100\n",
      "100/100 [==============================] - 19s 190ms/step - loss: 0.0975 - accuracy: 0.9703 - val_loss: 0.1298 - val_accuracy: 0.9625\n",
      "Epoch 88/100\n",
      "100/100 [==============================] - 19s 189ms/step - loss: 0.0716 - accuracy: 0.9737 - val_loss: 0.1460 - val_accuracy: 0.9625\n",
      "Epoch 89/100\n",
      "100/100 [==============================] - 19s 188ms/step - loss: 0.0828 - accuracy: 0.9756 - val_loss: 0.1020 - val_accuracy: 0.9688\n",
      "Epoch 90/100\n",
      "100/100 [==============================] - 19s 190ms/step - loss: 0.0702 - accuracy: 0.9756 - val_loss: 0.1218 - val_accuracy: 0.9688\n",
      "Epoch 91/100\n",
      "100/100 [==============================] - 19s 191ms/step - loss: 0.0722 - accuracy: 0.9756 - val_loss: 0.0612 - val_accuracy: 0.9812\n",
      "Epoch 92/100\n",
      "100/100 [==============================] - 19s 188ms/step - loss: 0.0704 - accuracy: 0.9750 - val_loss: 0.0940 - val_accuracy: 0.9812\n",
      "Epoch 93/100\n",
      "100/100 [==============================] - 19s 189ms/step - loss: 0.0733 - accuracy: 0.9775 - val_loss: 0.1033 - val_accuracy: 0.9500\n",
      "Epoch 94/100\n",
      "100/100 [==============================] - 19s 191ms/step - loss: 0.0865 - accuracy: 0.9691 - val_loss: 0.0986 - val_accuracy: 0.9750\n",
      "Epoch 95/100\n",
      "100/100 [==============================] - 19s 189ms/step - loss: 0.0682 - accuracy: 0.9775 - val_loss: 0.1453 - val_accuracy: 0.9625\n",
      "Epoch 96/100\n",
      "100/100 [==============================] - 19s 190ms/step - loss: 0.0576 - accuracy: 0.9800 - val_loss: 0.1805 - val_accuracy: 0.9625\n",
      "Epoch 97/100\n",
      "100/100 [==============================] - 19s 189ms/step - loss: 0.0771 - accuracy: 0.9741 - val_loss: 0.1299 - val_accuracy: 0.9563\n",
      "Epoch 98/100\n",
      "100/100 [==============================] - 19s 188ms/step - loss: 0.0655 - accuracy: 0.9787 - val_loss: 0.2747 - val_accuracy: 0.9625\n",
      "Epoch 99/100\n",
      "100/100 [==============================] - 19s 188ms/step - loss: 0.0584 - accuracy: 0.9803 - val_loss: 0.1420 - val_accuracy: 0.9563\n",
      "Epoch 100/100\n",
      "100/100 [==============================] - 19s 190ms/step - loss: 0.0667 - accuracy: 0.9787 - val_loss: 0.0786 - val_accuracy: 0.9625\n"
     ]
    }
   ],
   "source": [
    "c_history = c_model.fit_generator(train_generator,\n",
    "            steps_per_epoch=100,\n",
    "            epochs=100,\n",
    "            validation_data = val_generator,\n",
    "            validation_steps = 5)"
   ]
  },
  {
   "cell_type": "code",
   "execution_count": 101,
   "id": "e1f9990a",
   "metadata": {},
   "outputs": [
    {
     "data": {
      "text/plain": [
       "[]"
      ]
     },
     "execution_count": 101,
     "metadata": {},
     "output_type": "execute_result"
    },
    {
     "data": {
      "image/png": "[encoded data removed]",
      "text/plain": [
       "<Figure size 432x288 with 1 Axes>"
      ]
     },
     "metadata": {
      "needs_background": "light"
     },
     "output_type": "display_data"
    }
   ],
   "source": [
    "import matplotlib.pyplot as plt\n",
    "acc = c_history.history['accuracy']\n",
    "val_acc = c_history.history['val_accuracy']\n",
    "\n",
    "epoch = range(1, len(acc)+1) #정확도의 개수\n",
    "\n",
    "plt.plot(epoch, acc, c='red', label = 'Train acc') # 훈련 데이터 정확도\n",
    "plt.plot(epoch, val_acc, c= 'blue', label = 'val acc') # 검증 데이터 정확도\n",
    "plt.legend() #범례\n",
    "plt.plot()"
   ]
  },
  {
   "cell_type": "code",
   "execution_count": 102,
   "id": "1ee5c2a3",
   "metadata": {},
   "outputs": [
    {
     "data": {
      "text/plain": [
       "<matplotlib.legend.Legend at 0x2153e87e430>"
      ]
     },
     "execution_count": 102,
     "metadata": {},
     "output_type": "execute_result"
    },
    {
     "data": {
      "image/png": "[encoded data removed]",
      "text/plain": [
       "<Figure size 432x288 with 1 Axes>"
      ]
     },
     "metadata": {
      "needs_background": "light"
     },
     "output_type": "display_data"
    }
   ],
   "source": [
    "loss = c_history.history['loss']\n",
    "val_loss = c_history.history['val_loss']\n",
    "\n",
    "plt.plot(epoch, loss, 'red', label='Training loss')\n",
    "plt.plot(epoch, val_loss, 'blue', label='Validation loss')\n",
    "plt.title('Training and validation loss')\n",
    "plt.xlabel('Epochs')\n",
    "plt.ylabel('Loss')\n",
    "plt.legend()"
   ]
  },
  {
   "cell_type": "code",
   "execution_count": null,
   "id": "c79eada6",
   "metadata": {},
   "outputs": [],
   "source": []
  }
 ],
 "metadata": {
  "kernelspec": {
   "display_name": "Python 3 (ipykernel)",
   "language": "python",
   "name": "python3"
  },
  "language_info": {
   "codemirror_mode": {
    "name": "ipython",
    "version": 3
   },
   "file_extension": ".py",
   "mimetype": "text/x-python",
   "name": "python",
   "nbconvert_exporter": "python",
   "pygments_lexer": "ipython3",
   "version": "3.9.7"
  }
 },
 "nbformat": 4,
 "nbformat_minor": 5
}
