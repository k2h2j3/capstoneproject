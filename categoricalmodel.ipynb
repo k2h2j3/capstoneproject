{
 "cells": [
  {
   "cell_type": "code",
   "execution_count": 87,
   "id": "1a5db537",
   "metadata": {},
   "outputs": [],
   "source": [
    "import os\n",
    "from tensorflow import keras\n",
    "from tensorflow.keras.preprocessing.image import ImageDataGenerator\n",
    "\n",
    "from tensorflow.keras.models import Sequential\n",
    "from tensorflow.keras.layers import Dense, Dropout\n",
    "from tensorflow.keras.layers import Conv2D, MaxPooling2D, Flatten\n",
    "from matplotlib.cbook import flatten\n",
    "\n",
    "import numpy as np\n",
    "import tensorflow as tf"
   ]
  },
  {
   "cell_type": "code",
   "execution_count": 88,
   "id": "87829ede",
   "metadata": {},
   "outputs": [],
   "source": [
    "seed = 0\n",
    "np.random.seed(seed)\n",
    "tf.random.set_seed(seed)"
   ]
  },
  {
   "cell_type": "code",
   "execution_count": 89,
   "id": "299e6367",
   "metadata": {},
   "outputs": [],
   "source": [
    "train_dir = 'C:/aiproject/data/train'\n",
    "test_dir = 'C:/aiproject/data/test'\n",
    "validation_dir = 'C:/aiproject/data/validation'\n",
    "\n",
    "train_books_dir = 'C:/aiproject/data/train/book'\n",
    "train_clothing_dir = 'C:/aiproject/data/train/clothing'\n",
    "train_electronics_dir = 'C:/aiproject/data/train/electronic'\n",
    "train_furniture_dir = 'C:/aiproject/data/train/furniture'\n",
    "\n",
    "test_books_dir = 'C:/aiproject/data/test/book'\n",
    "test_clothing_dir = 'C:/aiproject/data/test/clothing'\n",
    "test_electronics_dir = 'C:/aiproject/data/test/electronic'\n",
    "test_furniture_dir = 'C:/aiproject/data/test/furniture'\n",
    "\n",
    "val_books_dir = 'C:/aiproject/data/validation/book'\n",
    "val_clothing_dir = 'C:/aiproject/data/validation/clothing'\n",
    "val_electronics_dir = 'C:/aiproject/data/validation/electronic'\n",
    "val_furniture_dir = 'C:/aiproject/data/validation/furniture'"
   ]
  },
  {
   "cell_type": "code",
   "execution_count": 90,
   "id": "ccb87e3a",
   "metadata": {},
   "outputs": [
    {
     "name": "stdout",
     "output_type": "stream",
     "text": [
      "훈련 책 데이터 수 : 20615\n",
      "훈련 옷 데이터 수 : 19822\n",
      "훈련 가구 데이터 수 : 6026\n",
      "테스트 책 데이터 수 : 3953\n",
      "테스트 옷 데이터 수 : 1975\n",
      "테스트 가구 데이터 수 : 1744\n",
      "검증 책 데이터 수 : 10823\n",
      "검증 옷 데이터 수 : 8597\n",
      "검증 가구 데이터 수 : 1576\n"
     ]
    }
   ],
   "source": [
    "print(\"훈련 책 데이터 수 : {}\".format(len(os.listdir(train_books_dir))))\n",
    "print(\"훈련 옷 데이터 수 : {}\".format(len(os.listdir(train_clothing_dir))))\n",
    "print(\"훈련 가구 데이터 수 : {}\".format(len(os.listdir(train_furniture_dir))))\n",
    "\n",
    "print(\"테스트 책 데이터 수 : {}\".format(len(os.listdir(test_books_dir))))\n",
    "print(\"테스트 옷 데이터 수 : {}\".format(len(os.listdir(test_clothing_dir))))\n",
    "print(\"테스트 가구 데이터 수 : {}\".format(len(os.listdir(test_furniture_dir))))\n",
    "\n",
    "print(\"검증 책 데이터 수 : {}\".format(len(os.listdir(val_books_dir))))\n",
    "print(\"검증 옷 데이터 수 : {}\".format(len(os.listdir(val_clothing_dir))))\n",
    "print(\"검증 가구 데이터 수 : {}\".format(len(os.listdir(val_furniture_dir))))"
   ]
  },
  {
   "cell_type": "code",
   "execution_count": 91,
   "id": "b28b9a49",
   "metadata": {},
   "outputs": [],
   "source": [
    "#스케일링\n",
    "train_gen = ImageDataGenerator( rescale = 1./255)\n",
    "val_gen = ImageDataGenerator( rescale = 1./255)\n",
    "test_gen = ImageDataGenerator( rescale = 1./255)"
   ]
  },
  {
   "cell_type": "code",
   "execution_count": 92,
   "id": "fef6f94f",
   "metadata": {},
   "outputs": [
    {
     "name": "stdout",
     "output_type": "stream",
     "text": [
      "Found 46463 images belonging to 3 classes.\n",
      "Found 20996 images belonging to 3 classes.\n",
      "Found 7672 images belonging to 3 classes.\n"
     ]
    }
   ],
   "source": [
    "\n",
    "train_generator = train_gen.flow_from_directory(train_dir,\n",
    "                              target_size =(64,64),\n",
    "                              batch_size=32,\n",
    "                              class_mode = 'categorical')\n",
    "val_generator = val_gen.flow_from_directory( validation_dir,\n",
    "                            target_size = (64,64),\n",
    "                            batch_size=32,\n",
    "                            class_mode =  'categorical')\n",
    "test_generator = test_gen.flow_from_directory( test_dir,\n",
    "                            target_size = (64,64),\n",
    "                            batch_size=32,\n",
    "                            class_mode =  'categorical')"
   ]
  },
  {
   "cell_type": "code",
   "execution_count": 93,
   "id": "6d9dfff5",
   "metadata": {
    "scrolled": true
   },
   "outputs": [
    {
     "name": "stdout",
     "output_type": "stream",
     "text": [
      "Model: \"sequential_9\"\n",
      "_________________________________________________________________\n",
      " Layer (type)                Output Shape              Param #   \n",
      "=================================================================\n",
      " conv2d_18 (Conv2D)          (None, 64, 64, 50)        1400      \n",
      "                                                                 \n",
      " max_pooling2d_18 (MaxPoolin  (None, 32, 32, 50)       0         \n",
      " g2D)                                                            \n",
      "                                                                 \n",
      " conv2d_19 (Conv2D)          (None, 32, 32, 50)        22550     \n",
      "                                                                 \n",
      " max_pooling2d_19 (MaxPoolin  (None, 16, 16, 50)       0         \n",
      " g2D)                                                            \n",
      "                                                                 \n",
      " flatten_9 (Flatten)         (None, 12800)             0         \n",
      "                                                                 \n",
      " dense_18 (Dense)            (None, 50)                640050    \n",
      "                                                                 \n",
      " dense_19 (Dense)            (None, 3)                 153       \n",
      "                                                                 \n",
      "=================================================================\n",
      "Total params: 664,153\n",
      "Trainable params: 664,153\n",
      "Non-trainable params: 0\n",
      "_________________________________________________________________\n"
     ]
    }
   ],
   "source": [
    "c_model = Sequential()\n",
    "\n",
    "kernelsize = 3\n",
    "filter = 50\n",
    "\n",
    "\n",
    "# 입력층(CNN)\n",
    "# 특징을 도드라지게 해준다\n",
    "c_model.add(Conv2D(filters = filter, \n",
    "                   kernel_size = kernelsize, \n",
    "                   input_shape = (64,64,3), \n",
    "                   padding = 'same', \n",
    "                   activation = 'relu'))\n",
    "#불필요한 부분 삭제\n",
    "c_model.add(MaxPooling2D(pool_size = (2,2),strides=2))\n",
    "\n",
    "c_model.add(Conv2D(filters = filter,\n",
    "                   kernel_size = kernelsize, \n",
    "                   input_shape = (64,64,3), \n",
    "                   padding = 'same', \n",
    "                   activation = 'relu'))\n",
    "\n",
    "c_model.add(MaxPooling2D(pool_size = (2,2),strides=2))\n",
    "\n",
    "# 1차원으로 데이터 축소\n",
    "c_model.add(Flatten())\n",
    "\n",
    "#은닉층\n",
    "c_model.add(Dense(units=50, activation = 'relu'))\n",
    "\n",
    "#출력층\n",
    "c_model.add(Dense(units=3, activation= 'softmax'))\n",
    "\n",
    "c_model.summary()"
   ]
  },
  {
   "cell_type": "code",
   "execution_count": 94,
   "id": "b0e87a6b",
   "metadata": {},
   "outputs": [],
   "source": [
    "c_model.compile(loss='categorical_crossentropy',\n",
    "                optimizer = 'adam',\n",
    "                metrics=['accuracy'])\n"
   ]
  },
  {
   "cell_type": "code",
   "execution_count": 95,
   "id": "34eef92c",
   "metadata": {
    "scrolled": false
   },
   "outputs": [
    {
     "name": "stdout",
     "output_type": "stream",
     "text": [
      "Epoch 1/100\n"
     ]
    },
    {
     "name": "stderr",
     "output_type": "stream",
     "text": [
      "C:\\Users\\k2h2j3\\AppData\\Local\\Temp/ipykernel_14308/2704360159.py:1: UserWarning: `Model.fit_generator` is deprecated and will be removed in a future version. Please use `Model.fit`, which supports generators.\n",
      "  c_history = c_model.fit_generator(train_generator,\n"
     ]
    },
    {
     "name": "stdout",
     "output_type": "stream",
     "text": [
      "100/100 [==============================] - 10s 97ms/step - loss: 0.4917 - accuracy: 0.8106 - val_loss: 0.2306 - val_accuracy: 0.9438\n",
      "Epoch 2/100\n",
      "100/100 [==============================] - 10s 101ms/step - loss: 0.3398 - accuracy: 0.8784 - val_loss: 0.2486 - val_accuracy: 0.9187\n",
      "Epoch 3/100\n",
      "100/100 [==============================] - 10s 100ms/step - loss: 0.2917 - accuracy: 0.9000 - val_loss: 0.1851 - val_accuracy: 0.9625\n",
      "Epoch 4/100\n",
      "100/100 [==============================] - 10s 99ms/step - loss: 0.2754 - accuracy: 0.9025 - val_loss: 0.2774 - val_accuracy: 0.9187\n",
      "Epoch 5/100\n",
      "100/100 [==============================] - 11s 107ms/step - loss: 0.2557 - accuracy: 0.9153 - val_loss: 0.1700 - val_accuracy: 0.9500\n",
      "Epoch 6/100\n",
      "100/100 [==============================] - 10s 100ms/step - loss: 0.2166 - accuracy: 0.9281 - val_loss: 0.1355 - val_accuracy: 0.9625\n",
      "Epoch 7/100\n",
      "100/100 [==============================] - 10s 103ms/step - loss: 0.2179 - accuracy: 0.9291 - val_loss: 0.1957 - val_accuracy: 0.9500\n",
      "Epoch 8/100\n",
      "100/100 [==============================] - 11s 107ms/step - loss: 0.2163 - accuracy: 0.9231 - val_loss: 0.3318 - val_accuracy: 0.8687\n",
      "Epoch 9/100\n",
      "100/100 [==============================] - 11s 106ms/step - loss: 0.1905 - accuracy: 0.9359 - val_loss: 0.1849 - val_accuracy: 0.9187\n",
      "Epoch 10/100\n",
      "100/100 [==============================] - 11s 109ms/step - loss: 0.2024 - accuracy: 0.9322 - val_loss: 0.1392 - val_accuracy: 0.9563\n",
      "Epoch 11/100\n",
      "100/100 [==============================] - 12s 123ms/step - loss: 0.1980 - accuracy: 0.9344 - val_loss: 0.1035 - val_accuracy: 0.9812\n",
      "Epoch 12/100\n",
      "100/100 [==============================] - 10s 102ms/step - loss: 0.1849 - accuracy: 0.9391 - val_loss: 0.1028 - val_accuracy: 0.9688\n",
      "Epoch 13/100\n",
      "100/100 [==============================] - 10s 99ms/step - loss: 0.1638 - accuracy: 0.9441 - val_loss: 0.1652 - val_accuracy: 0.9563\n",
      "Epoch 14/100\n",
      "100/100 [==============================] - 10s 101ms/step - loss: 0.1604 - accuracy: 0.9456 - val_loss: 0.1150 - val_accuracy: 0.9500\n",
      "Epoch 15/100\n",
      "100/100 [==============================] - 10s 101ms/step - loss: 0.1534 - accuracy: 0.9519 - val_loss: 0.1753 - val_accuracy: 0.9625\n",
      "Epoch 16/100\n",
      "100/100 [==============================] - 10s 99ms/step - loss: 0.1443 - accuracy: 0.9466 - val_loss: 0.1995 - val_accuracy: 0.9375\n",
      "Epoch 17/100\n",
      "100/100 [==============================] - 10s 101ms/step - loss: 0.1438 - accuracy: 0.9528 - val_loss: 0.0923 - val_accuracy: 0.9625\n",
      "Epoch 18/100\n",
      "100/100 [==============================] - 10s 101ms/step - loss: 0.1329 - accuracy: 0.9544 - val_loss: 0.1672 - val_accuracy: 0.9500\n",
      "Epoch 19/100\n",
      "100/100 [==============================] - 11s 105ms/step - loss: 0.1443 - accuracy: 0.9506 - val_loss: 0.0967 - val_accuracy: 0.9812\n",
      "Epoch 20/100\n",
      "100/100 [==============================] - 10s 101ms/step - loss: 0.1434 - accuracy: 0.9541 - val_loss: 0.1734 - val_accuracy: 0.9375\n",
      "Epoch 21/100\n",
      "100/100 [==============================] - 10s 104ms/step - loss: 0.1376 - accuracy: 0.9556 - val_loss: 0.1231 - val_accuracy: 0.9625\n",
      "Epoch 22/100\n",
      "100/100 [==============================] - 11s 112ms/step - loss: 0.1392 - accuracy: 0.9553 - val_loss: 0.1924 - val_accuracy: 0.9062\n",
      "Epoch 23/100\n",
      "100/100 [==============================] - 10s 97ms/step - loss: 0.1200 - accuracy: 0.9581 - val_loss: 0.0973 - val_accuracy: 0.9750\n",
      "Epoch 24/100\n",
      "100/100 [==============================] - 10s 97ms/step - loss: 0.1207 - accuracy: 0.9591 - val_loss: 0.0819 - val_accuracy: 0.9750\n",
      "Epoch 25/100\n",
      "100/100 [==============================] - 10s 96ms/step - loss: 0.1099 - accuracy: 0.9647 - val_loss: 0.0983 - val_accuracy: 0.9625\n",
      "Epoch 26/100\n",
      "100/100 [==============================] - 10s 96ms/step - loss: 0.1148 - accuracy: 0.9584 - val_loss: 0.1222 - val_accuracy: 0.9438\n",
      "Epoch 27/100\n",
      "100/100 [==============================] - 10s 96ms/step - loss: 0.1130 - accuracy: 0.9619 - val_loss: 0.1185 - val_accuracy: 0.9625\n",
      "Epoch 28/100\n",
      "100/100 [==============================] - 11s 106ms/step - loss: 0.1002 - accuracy: 0.9669 - val_loss: 0.0652 - val_accuracy: 0.9750\n",
      "Epoch 29/100\n",
      "100/100 [==============================] - 11s 105ms/step - loss: 0.1138 - accuracy: 0.9628 - val_loss: 0.0399 - val_accuracy: 0.9937\n",
      "Epoch 30/100\n",
      "100/100 [==============================] - 10s 100ms/step - loss: 0.1055 - accuracy: 0.9666 - val_loss: 0.1300 - val_accuracy: 0.9688\n",
      "Epoch 31/100\n",
      "100/100 [==============================] - 10s 99ms/step - loss: 0.0898 - accuracy: 0.9697 - val_loss: 0.0637 - val_accuracy: 0.9875\n",
      "Epoch 32/100\n",
      "100/100 [==============================] - 10s 100ms/step - loss: 0.1125 - accuracy: 0.9588 - val_loss: 0.1179 - val_accuracy: 0.9750\n",
      "Epoch 33/100\n",
      "100/100 [==============================] - 10s 103ms/step - loss: 0.1059 - accuracy: 0.9641 - val_loss: 0.1319 - val_accuracy: 0.9500\n",
      "Epoch 34/100\n",
      "100/100 [==============================] - 11s 106ms/step - loss: 0.0999 - accuracy: 0.9669 - val_loss: 0.1563 - val_accuracy: 0.9438\n",
      "Epoch 35/100\n",
      "100/100 [==============================] - 10s 101ms/step - loss: 0.0958 - accuracy: 0.9653 - val_loss: 0.0956 - val_accuracy: 0.9750\n",
      "Epoch 36/100\n",
      "100/100 [==============================] - 10s 103ms/step - loss: 0.0869 - accuracy: 0.9666 - val_loss: 0.1620 - val_accuracy: 0.9688\n",
      "Epoch 37/100\n",
      "100/100 [==============================] - 11s 106ms/step - loss: 0.0919 - accuracy: 0.9700 - val_loss: 0.0692 - val_accuracy: 0.9750\n",
      "Epoch 38/100\n",
      "100/100 [==============================] - 10s 104ms/step - loss: 0.1015 - accuracy: 0.9653 - val_loss: 0.0741 - val_accuracy: 0.9688\n",
      "Epoch 39/100\n",
      "100/100 [==============================] - 10s 104ms/step - loss: 0.0780 - accuracy: 0.9747 - val_loss: 0.1763 - val_accuracy: 0.9500\n",
      "Epoch 40/100\n",
      "100/100 [==============================] - 11s 106ms/step - loss: 0.0881 - accuracy: 0.9709 - val_loss: 0.1852 - val_accuracy: 0.9375\n",
      "Epoch 41/100\n",
      "100/100 [==============================] - 11s 107ms/step - loss: 0.0754 - accuracy: 0.9756 - val_loss: 0.1764 - val_accuracy: 0.9563\n",
      "Epoch 42/100\n",
      "100/100 [==============================] - 10s 100ms/step - loss: 0.0878 - accuracy: 0.9750 - val_loss: 0.1080 - val_accuracy: 0.9688\n",
      "Epoch 43/100\n",
      "100/100 [==============================] - 10s 102ms/step - loss: 0.0792 - accuracy: 0.9725 - val_loss: 0.1133 - val_accuracy: 0.9688\n",
      "Epoch 44/100\n",
      "100/100 [==============================] - 11s 107ms/step - loss: 0.0607 - accuracy: 0.9784 - val_loss: 0.1894 - val_accuracy: 0.9500\n",
      "Epoch 45/100\n",
      "100/100 [==============================] - 10s 104ms/step - loss: 0.0697 - accuracy: 0.9769 - val_loss: 0.0844 - val_accuracy: 0.9750\n",
      "Epoch 46/100\n",
      "100/100 [==============================] - 10s 102ms/step - loss: 0.0829 - accuracy: 0.9756 - val_loss: 0.0978 - val_accuracy: 0.9688\n",
      "Epoch 47/100\n",
      "100/100 [==============================] - 11s 105ms/step - loss: 0.0783 - accuracy: 0.9747 - val_loss: 0.0968 - val_accuracy: 0.9500\n",
      "Epoch 48/100\n",
      "100/100 [==============================] - 10s 104ms/step - loss: 0.0673 - accuracy: 0.9753 - val_loss: 0.1264 - val_accuracy: 0.9750\n",
      "Epoch 49/100\n",
      "100/100 [==============================] - 10s 103ms/step - loss: 0.0832 - accuracy: 0.9712 - val_loss: 0.1385 - val_accuracy: 0.9625\n",
      "Epoch 50/100\n",
      "100/100 [==============================] - 10s 103ms/step - loss: 0.0618 - accuracy: 0.9778 - val_loss: 0.0925 - val_accuracy: 0.9750\n",
      "Epoch 51/100\n",
      "100/100 [==============================] - 10s 98ms/step - loss: 0.0725 - accuracy: 0.9725 - val_loss: 0.1710 - val_accuracy: 0.9563\n",
      "Epoch 52/100\n",
      "100/100 [==============================] - 10s 96ms/step - loss: 0.0527 - accuracy: 0.9837 - val_loss: 0.1007 - val_accuracy: 0.9563\n",
      "Epoch 53/100\n",
      "100/100 [==============================] - 9s 95ms/step - loss: 0.0637 - accuracy: 0.9762 - val_loss: 0.1053 - val_accuracy: 0.9688\n",
      "Epoch 54/100\n",
      "100/100 [==============================] - 10s 99ms/step - loss: 0.0648 - accuracy: 0.9797 - val_loss: 0.1165 - val_accuracy: 0.9688\n",
      "Epoch 55/100\n",
      "100/100 [==============================] - 10s 100ms/step - loss: 0.0615 - accuracy: 0.9781 - val_loss: 0.1363 - val_accuracy: 0.9625\n",
      "Epoch 56/100\n",
      "100/100 [==============================] - 10s 99ms/step - loss: 0.0614 - accuracy: 0.9791 - val_loss: 0.1340 - val_accuracy: 0.9688\n"
     ]
    },
    {
     "name": "stdout",
     "output_type": "stream",
     "text": [
      "Epoch 57/100\n",
      "100/100 [==============================] - 10s 98ms/step - loss: 0.0434 - accuracy: 0.9850 - val_loss: 0.2936 - val_accuracy: 0.9375\n",
      "Epoch 58/100\n",
      "100/100 [==============================] - 10s 99ms/step - loss: 0.0680 - accuracy: 0.9769 - val_loss: 0.1994 - val_accuracy: 0.9250\n",
      "Epoch 59/100\n",
      "100/100 [==============================] - 10s 100ms/step - loss: 0.0556 - accuracy: 0.9803 - val_loss: 0.0714 - val_accuracy: 0.9563\n",
      "Epoch 60/100\n",
      "100/100 [==============================] - 10s 101ms/step - loss: 0.0437 - accuracy: 0.9859 - val_loss: 0.1161 - val_accuracy: 0.9812\n",
      "Epoch 61/100\n",
      "100/100 [==============================] - 10s 100ms/step - loss: 0.0635 - accuracy: 0.9800 - val_loss: 0.1559 - val_accuracy: 0.9438\n",
      "Epoch 62/100\n",
      "100/100 [==============================] - 10s 99ms/step - loss: 0.0504 - accuracy: 0.9853 - val_loss: 0.0780 - val_accuracy: 0.9750\n",
      "Epoch 63/100\n",
      "100/100 [==============================] - 10s 100ms/step - loss: 0.0474 - accuracy: 0.9828 - val_loss: 0.1518 - val_accuracy: 0.9375\n",
      "Epoch 64/100\n",
      "100/100 [==============================] - 10s 98ms/step - loss: 0.0597 - accuracy: 0.9772 - val_loss: 0.1120 - val_accuracy: 0.9688\n",
      "Epoch 65/100\n",
      "100/100 [==============================] - 10s 101ms/step - loss: 0.0549 - accuracy: 0.9812 - val_loss: 0.1130 - val_accuracy: 0.9625\n",
      "Epoch 66/100\n",
      "100/100 [==============================] - 10s 98ms/step - loss: 0.0649 - accuracy: 0.9794 - val_loss: 0.1861 - val_accuracy: 0.9563\n",
      "Epoch 67/100\n",
      "100/100 [==============================] - 10s 101ms/step - loss: 0.0491 - accuracy: 0.9831 - val_loss: 0.2312 - val_accuracy: 0.9500\n",
      "Epoch 68/100\n",
      "100/100 [==============================] - 10s 101ms/step - loss: 0.0571 - accuracy: 0.9787 - val_loss: 0.0814 - val_accuracy: 0.9688\n",
      "Epoch 69/100\n",
      "100/100 [==============================] - 10s 101ms/step - loss: 0.0379 - accuracy: 0.9900 - val_loss: 0.1486 - val_accuracy: 0.9500\n",
      "Epoch 70/100\n",
      "100/100 [==============================] - 10s 101ms/step - loss: 0.0434 - accuracy: 0.9866 - val_loss: 0.1918 - val_accuracy: 0.9750\n",
      "Epoch 71/100\n",
      "100/100 [==============================] - 10s 100ms/step - loss: 0.0329 - accuracy: 0.9891 - val_loss: 0.0889 - val_accuracy: 0.9688\n",
      "Epoch 72/100\n",
      "100/100 [==============================] - 10s 101ms/step - loss: 0.0492 - accuracy: 0.9850 - val_loss: 0.0263 - val_accuracy: 0.9937\n",
      "Epoch 73/100\n",
      "100/100 [==============================] - 10s 103ms/step - loss: 0.0532 - accuracy: 0.9825 - val_loss: 0.2140 - val_accuracy: 0.9625\n",
      "Epoch 74/100\n",
      "100/100 [==============================] - 10s 100ms/step - loss: 0.0418 - accuracy: 0.9862 - val_loss: 0.1292 - val_accuracy: 0.9563\n",
      "Epoch 75/100\n",
      "100/100 [==============================] - 11s 108ms/step - loss: 0.0416 - accuracy: 0.9869 - val_loss: 0.0511 - val_accuracy: 0.9750\n",
      "Epoch 76/100\n",
      "100/100 [==============================] - 10s 100ms/step - loss: 0.0310 - accuracy: 0.9881 - val_loss: 0.0562 - val_accuracy: 0.9750\n",
      "Epoch 77/100\n",
      "100/100 [==============================] - 10s 101ms/step - loss: 0.0636 - accuracy: 0.9803 - val_loss: 0.1160 - val_accuracy: 0.9812\n",
      "Epoch 78/100\n",
      "100/100 [==============================] - 10s 103ms/step - loss: 0.0326 - accuracy: 0.9900 - val_loss: 0.1516 - val_accuracy: 0.9563\n",
      "Epoch 79/100\n",
      "100/100 [==============================] - 10s 104ms/step - loss: 0.0407 - accuracy: 0.9875 - val_loss: 0.0193 - val_accuracy: 0.9875\n",
      "Epoch 80/100\n",
      "100/100 [==============================] - 10s 98ms/step - loss: 0.0379 - accuracy: 0.9866 - val_loss: 0.0842 - val_accuracy: 0.9688\n",
      "Epoch 81/100\n",
      "100/100 [==============================] - 10s 98ms/step - loss: 0.0464 - accuracy: 0.9844 - val_loss: 0.1620 - val_accuracy: 0.9563\n",
      "Epoch 82/100\n",
      "100/100 [==============================] - 10s 98ms/step - loss: 0.0439 - accuracy: 0.9856 - val_loss: 0.1717 - val_accuracy: 0.9688\n",
      "Epoch 83/100\n",
      "100/100 [==============================] - 10s 98ms/step - loss: 0.0460 - accuracy: 0.9853 - val_loss: 0.0170 - val_accuracy: 1.0000\n",
      "Epoch 84/100\n",
      "100/100 [==============================] - 10s 100ms/step - loss: 0.0293 - accuracy: 0.9912 - val_loss: 0.1105 - val_accuracy: 0.9688\n",
      "Epoch 85/100\n",
      "100/100 [==============================] - 10s 102ms/step - loss: 0.0336 - accuracy: 0.9884 - val_loss: 0.0174 - val_accuracy: 0.9937\n",
      "Epoch 86/100\n",
      "100/100 [==============================] - 10s 96ms/step - loss: 0.0329 - accuracy: 0.9909 - val_loss: 0.1550 - val_accuracy: 0.9688\n",
      "Epoch 87/100\n",
      "100/100 [==============================] - 10s 96ms/step - loss: 0.0303 - accuracy: 0.9909 - val_loss: 0.0485 - val_accuracy: 0.9937\n",
      "Epoch 88/100\n",
      "100/100 [==============================] - 10s 96ms/step - loss: 0.0400 - accuracy: 0.9850 - val_loss: 0.2067 - val_accuracy: 0.9500\n",
      "Epoch 89/100\n",
      "100/100 [==============================] - 11s 113ms/step - loss: 0.0425 - accuracy: 0.9862 - val_loss: 0.1770 - val_accuracy: 0.9625\n",
      "Epoch 90/100\n",
      "100/100 [==============================] - 10s 101ms/step - loss: 0.0356 - accuracy: 0.9872 - val_loss: 0.1272 - val_accuracy: 0.9625\n",
      "Epoch 91/100\n",
      "100/100 [==============================] - 10s 98ms/step - loss: 0.0361 - accuracy: 0.9894 - val_loss: 0.0645 - val_accuracy: 0.9688\n",
      "Epoch 92/100\n",
      "100/100 [==============================] - 11s 114ms/step - loss: 0.0367 - accuracy: 0.9872 - val_loss: 0.1227 - val_accuracy: 0.9563\n",
      "Epoch 93/100\n",
      "100/100 [==============================] - 14s 145ms/step - loss: 0.0324 - accuracy: 0.9894 - val_loss: 0.2805 - val_accuracy: 0.9563\n",
      "Epoch 94/100\n",
      "100/100 [==============================] - 32s 316ms/step - loss: 0.0290 - accuracy: 0.9909 - val_loss: 0.1081 - val_accuracy: 0.9688\n",
      "Epoch 95/100\n",
      "100/100 [==============================] - 10s 104ms/step - loss: 0.0350 - accuracy: 0.9887 - val_loss: 0.0978 - val_accuracy: 0.9563\n",
      "Epoch 96/100\n",
      "100/100 [==============================] - 11s 109ms/step - loss: 0.0288 - accuracy: 0.9894 - val_loss: 0.0731 - val_accuracy: 0.9750\n",
      "Epoch 97/100\n",
      "100/100 [==============================] - 10s 103ms/step - loss: 0.0266 - accuracy: 0.9900 - val_loss: 0.0349 - val_accuracy: 0.9937\n",
      "Epoch 98/100\n",
      "100/100 [==============================] - 10s 100ms/step - loss: 0.0285 - accuracy: 0.9903 - val_loss: 0.1798 - val_accuracy: 0.9625\n",
      "Epoch 99/100\n",
      "100/100 [==============================] - 10s 102ms/step - loss: 0.0479 - accuracy: 0.9850 - val_loss: 0.1543 - val_accuracy: 0.9625\n",
      "Epoch 100/100\n",
      "100/100 [==============================] - 10s 96ms/step - loss: 0.0224 - accuracy: 0.9944 - val_loss: 0.1514 - val_accuracy: 0.9625\n"
     ]
    }
   ],
   "source": [
    "c_history = c_model.fit_generator(train_generator,\n",
    "            steps_per_epoch=100,\n",
    "            epochs=100,\n",
    "            validation_data = val_generator,\n",
    "            validation_steps = 5)"
   ]
  },
  {
   "cell_type": "code",
   "execution_count": 96,
   "id": "e1f9990a",
   "metadata": {},
   "outputs": [
    {
     "data": {
      "text/plain": [
       "[]"
      ]
     },
     "execution_count": 96,
     "metadata": {},
     "output_type": "execute_result"
    },
    {
     "data": {
      "image/png": "[encoded data removed]",
      "text/plain": [
       "<Figure size 432x288 with 1 Axes>"
      ]
     },
     "metadata": {
      "needs_background": "light"
     },
     "output_type": "display_data"
    }
   ],
   "source": [
    "import matplotlib.pyplot as plt\n",
    "acc = c_history.history['accuracy']\n",
    "val_acc = c_history.history['val_accuracy']\n",
    "\n",
    "epoch = range(1, len(acc)+1) #정확도의 개수\n",
    "\n",
    "plt.plot(epoch, acc, c='red', label = 'Train acc') # 훈련 데이터 정확도\n",
    "plt.plot(epoch, val_acc, c= 'blue', label = 'val acc') # 검증 데이터 정확도\n",
    "plt.legend() #범례\n",
    "plt.plot()"
   ]
  },
  {
   "cell_type": "code",
   "execution_count": 97,
   "id": "1ee5c2a3",
   "metadata": {},
   "outputs": [
    {
     "data": {
      "text/plain": [
       "<matplotlib.legend.Legend at 0x21540307b80>"
      ]
     },
     "execution_count": 97,
     "metadata": {},
     "output_type": "execute_result"
    },
    {
     "data": {
      "image/png": "[encoded data removed]",
      "text/plain": [
       "<Figure size 432x288 with 1 Axes>"
      ]
     },
     "metadata": {
      "needs_background": "light"
     },
     "output_type": "display_data"
    }
   ],
   "source": [
    "loss = c_history.history['loss']\n",
    "val_loss = c_history.history['val_loss']\n",
    "\n",
    "plt.plot(epoch, loss, 'red', label='Training loss')\n",
    "plt.plot(epoch, val_loss, 'blue', label='Validation loss')\n",
    "plt.title('Training and validation loss')\n",
    "plt.xlabel('Epochs')\n",
    "plt.ylabel('Loss')\n",
    "plt.legend()"
   ]
  },
  {
   "cell_type": "code",
   "execution_count": null,
   "id": "c79eada6",
   "metadata": {},
   "outputs": [],
   "source": []
  }
 ],
 "metadata": {
  "kernelspec": {
   "display_name": "Python 3 (ipykernel)",
   "language": "python",
   "name": "python3"
  },
  "language_info": {
   "codemirror_mode": {
    "name": "ipython",
    "version": 3
   },
   "file_extension": ".py",
   "mimetype": "text/x-python",
   "name": "python",
   "nbconvert_exporter": "python",
   "pygments_lexer": "ipython3",
   "version": "3.9.7"
  }
 },
 "nbformat": 4,
 "nbformat_minor": 5
}
