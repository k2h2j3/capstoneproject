{
 "cells": [
  {
   "cell_type": "code",
   "execution_count": 1,
   "id": "15d0d797",
   "metadata": {},
   "outputs": [],
   "source": [
    "import numpy as np\n",
    "import cv2\n",
    "import pickle \n",
    "from cv2 import VideoCapture\n",
    "from cv2 import waitKey\n",
    "from keras.models import load_model"
   ]
  },
  {
   "cell_type": "code",
   "execution_count": 2,
   "id": "0f71b2bb",
   "metadata": {},
   "outputs": [],
   "source": [
    "framewidth = 640\n",
    "frameHeight = 480\n",
    "brightness = 180\n",
    "threshold = 0.95\n",
    "font = cv2.FONT_HERSHEY_SIMPLEX"
   ]
  },
  {
   "cell_type": "code",
   "execution_count": 3,
   "id": "2107ec01",
   "metadata": {},
   "outputs": [
    {
     "name": "stdout",
     "output_type": "stream",
     "text": [
      "Model: \"sequential\"\n",
      "_________________________________________________________________\n",
      " Layer (type)                Output Shape              Param #   \n",
      "=================================================================\n",
      " conv2d (Conv2D)             (None, 28, 28, 32)        832       \n",
      "                                                                 \n",
      " conv2d_1 (Conv2D)           (None, 24, 24, 32)        25632     \n",
      "                                                                 \n",
      " max_pooling2d (MaxPooling2D  (None, 12, 12, 32)       0         \n",
      " )                                                               \n",
      "                                                                 \n",
      " dropout (Dropout)           (None, 12, 12, 32)        0         \n",
      "                                                                 \n",
      " conv2d_2 (Conv2D)           (None, 10, 10, 64)        18496     \n",
      "                                                                 \n",
      " conv2d_3 (Conv2D)           (None, 8, 8, 64)          36928     \n",
      "                                                                 \n",
      " max_pooling2d_1 (MaxPooling  (None, 4, 4, 64)         0         \n",
      " 2D)                                                             \n",
      "                                                                 \n",
      " dropout_1 (Dropout)         (None, 4, 4, 64)          0         \n",
      "                                                                 \n",
      " flatten (Flatten)           (None, 1024)              0         \n",
      "                                                                 \n",
      " dense (Dense)               (None, 256)               262400    \n",
      "                                                                 \n",
      " dropout_2 (Dropout)         (None, 256)               0         \n",
      "                                                                 \n",
      " dense_1 (Dense)             (None, 43)                11051     \n",
      "                                                                 \n",
      "=================================================================\n",
      "Total params: 355,339\n",
      "Trainable params: 355,339\n",
      "Non-trainable params: 0\n",
      "_________________________________________________________________\n"
     ]
    }
   ],
   "source": [
    "#setup video camera\n",
    "cap = cv2.VideoCapture(0) #0은 카메라 번호(노트북 내부 웹캠)\n",
    "cap.set(3, framewidth)\n",
    "cap.set(4, frameHeight)\n",
    "cap.set(10, brightness)\n",
    "model = load_model(\"C:/Users/k2h2j3/trafficdata/trafficsign/my_model2.h5\")\n",
    "model.summary()"
   ]
  },
  {
   "cell_type": "code",
   "execution_count": 4,
   "id": "4b4b8278",
   "metadata": {},
   "outputs": [],
   "source": [
    "def grayscale(img):\n",
    "    img = cv2.cvtColor(img,cv2.COLOR_BGR2GRAY) #색깔 bgr을 회색조로 변환\n",
    "    return img\n",
    "\n",
    "def equalize(img):\n",
    "    img = cv2.equalizeHist(img) #균일화\n",
    "    return img\n",
    "\n",
    "def preprocessing(img): #영상 이미지 전처리\n",
    "    img = grayscale(img)\n",
    "    img = equalize(img)\n",
    "    img = img/255\n",
    "    return img\n",
    "\n",
    "def getCalssName(classIndex): \n",
    "    if classIndex == 0: \n",
    "        return 'speed Limit 30km/h'\n",
    "    elif classIndex == 1: \n",
    "        return 'speed Limit 50km/h'\n",
    "    elif classIndex == 2: \n",
    "        return 'speed Limit 100km/h'\n",
    "    elif classIndex == 3: \n",
    "        return 'Right-of-way at the next intersection'\n",
    "    elif classIndex == 4: \n",
    "        return 'Stop'\n",
    "    elif classIndex == 5: \n",
    "        return 'Veh > 3.5 tons prohibited'\n",
    "    elif classIndex == 6: \n",
    "        return 'Road work'\n",
    "    elif classIndex == 7: \n",
    "        return 'Turn right ahead'\n",
    "    elif classIndex == 8: \n",
    "        return 'Turn left ahead'\n",
    "    elif classIndex == 9: \n",
    "        return 'Ahead only'\n",
    "    "
   ]
  },
  {
   "cell_type": "code",
   "execution_count": null,
   "id": "35c13635",
   "metadata": {},
   "outputs": [],
   "source": [
    "while True:\n",
    " \n",
    "# READ IMAGE\n",
    "    success, imgOrignal = cap.read()\n",
    "\n",
    "    img = np.asarray(imgOrignal)\n",
    "    img = cv2.resize(img, (32, 32))\n",
    "    img = preprocessing(img)\n",
    "    cv2.imshow(\"Processed Image\", img)\n",
    "    img = img.reshape(1, 32, 32, 1)\n",
    "    cv2.putText(imgOrignal, \"CLASS: \" , (20, 35), font, 0.75, (0, 0, 255), 2, cv2.LINE_AA)\n",
    "    cv2.putText(imgOrignal, \"PROBABILITY: \", (20, 75), font, 0.75, (0, 0, 255), 2, cv2.LINE_AA)\n",
    "    predictions = model.predict(img)\n",
    "    classIndex = np.argmax(predictions[0])\n",
    "    probabilityValue =np.amax(predictions)\n",
    "   \n",
    "    if probabilityValue > threshold:\n",
    "        cv2.putText(imgOrignal,str(classIndex)+\" \"+str(getCalssName(classIndex)), (120, 35), font, 0.75, (0, 0, 255), 2, cv2.LINE_AA) \n",
    "        cv2.putText(imgOrignal, str(round(probabilityValue*100,2) )+\"%\", (180, 75), font, 0.75, (0, 0, 255), 2, cv2.LINE_AA)        \n",
    "    cv2.imshow(\"Result\", imgOrignal)\n",
    "\n",
    "\n",
    "    if cv2.waitKey(1) & 0xFF == ord('q'):\n",
    "        break"
   ]
  },
  {
   "cell_type": "code",
   "execution_count": null,
   "id": "7f52f91f",
   "metadata": {},
   "outputs": [],
   "source": []
  }
 ],
 "metadata": {
  "kernelspec": {
   "display_name": "Python 3 (ipykernel)",
   "language": "python",
   "name": "python3"
  },
  "language_info": {
   "codemirror_mode": {
    "name": "ipython",
    "version": 3
   },
   "file_extension": ".py",
   "mimetype": "text/x-python",
   "name": "python",
   "nbconvert_exporter": "python",
   "pygments_lexer": "ipython3",
   "version": "3.9.7"
  }
 },
 "nbformat": 4,
 "nbformat_minor": 5
}
